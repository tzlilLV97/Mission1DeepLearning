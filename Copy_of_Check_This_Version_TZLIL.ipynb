{
  "nbformat": 4,
  "nbformat_minor": 0,
  "metadata": {
    "colab": {
      "provenance": [],
      "include_colab_link": true
    },
    "language_info": {
      "name": "python"
    },
    "kernelspec": {
      "name": "python3",
      "display_name": "Python 3"
    }
  },
  "cells": [
    {
      "cell_type": "markdown",
      "metadata": {
        "id": "view-in-github",
        "colab_type": "text"
      },
      "source": [
        "<a href=\"https://colab.research.google.com/github/tzlilLV97/Mission1DeepLearning/blob/main/Copy_of_Check_This_Version_TZLIL.ipynb\" target=\"_parent\"><img src=\"https://colab.research.google.com/assets/colab-badge.svg\" alt=\"Open In Colab\"/></a>"
      ]
    },
    {
      "cell_type": "markdown",
      "metadata": {
        "id": "Cx3i2Op-6X5n"
      },
      "source": [
        "# Assignment 2: Word Prediction\n",
        "\n",
        "**Deadline**: Sunday, December 11th, by 8pm.\n",
        "\n",
        "**Submission**: Submit a PDF export of the completed notebook as well as the ipynb file. \n",
        "\n",
        " \n",
        "\n",
        "In this assignment, we will make a neural network that can predict the next word\n",
        "in a sentence given the previous three.  \n",
        "In doing this prediction task, our neural networks will learn about *words* and about\n",
        "how to represent words. We'll explore the *vector representations* of words that our\n",
        "model produces, and analyze these representations.\n",
        "\n",
        "You may modify the starter code as you see fit, including changing the signatures of functions and adding/removing helper functions. However, please make sure that you properly explain what you are doing and why."
      ]
    },
    {
      "cell_type": "code",
      "source": [
        "from google.colab import drive\n",
        "drive.mount('/content/drive')"
      ],
      "metadata": {
        "colab": {
          "base_uri": "https://localhost:8080/"
        },
        "id": "PpFMIR09PuCE",
        "outputId": "e50e48b5-bdad-4388-cc45-fcbf3c550c7a"
      },
      "execution_count": 1,
      "outputs": [
        {
          "output_type": "stream",
          "name": "stdout",
          "text": [
            "Mounted at /content/drive\n"
          ]
        }
      ]
    },
    {
      "cell_type": "code",
      "metadata": {
        "id": "2zdEvcdO6X5s"
      },
      "source": [
        "import pandas\n",
        "import numpy as np\n",
        "import matplotlib.pyplot as plt\n",
        "import collections\n",
        "\n",
        "import torch\n",
        "import torch.nn as nn\n",
        "import torch.optim as optim"
      ],
      "execution_count": 2,
      "outputs": []
    },
    {
      "cell_type": "markdown",
      "metadata": {
        "id": "sQYtUQTH6X5t"
      },
      "source": [
        "## Question 1. Data (18%)\n",
        "\n",
        "With any machine learning problem, the first thing that we would want to do\n",
        "is to get an intuitive understanding of what our data looks like. Download the file\n",
        "`raw_sentences.txt` from the course page on Moodle and upload it to Google Drive.\n",
        "Then, mount Google Drive from your Google Colab notebook:"
      ]
    },
    {
      "cell_type": "code",
      "metadata": {
        "id": "9eWXHhCe6X5t",
        "colab": {
          "base_uri": "https://localhost:8080/"
        },
        "outputId": "df5ac369-c8d2-43ba-b7d5-6f7375d4f97d"
      },
      "source": [
        "from google.colab import drive\n",
        "drive.mount('/content/gdrive')"
      ],
      "execution_count": 3,
      "outputs": [
        {
          "output_type": "stream",
          "name": "stdout",
          "text": [
            "Mounted at /content/gdrive\n"
          ]
        }
      ]
    },
    {
      "cell_type": "markdown",
      "metadata": {
        "id": "Hteg6bwv6X5t"
      },
      "source": [
        "Find the path to `raw_sentences.txt`:"
      ]
    },
    {
      "cell_type": "code",
      "metadata": {
        "id": "ALMsGfFi6X5u"
      },
      "source": [
        "file_path = '/content/gdrive/MyDrive/Colab Notebooks/raw_sentences.txt' # TODO - UPDATE ME!"
      ],
      "execution_count": 4,
      "outputs": []
    },
    {
      "cell_type": "markdown",
      "metadata": {
        "id": "PD5uXTle6X5u"
      },
      "source": [
        "The following code reads the sentences in our file, split each sentence into\n",
        "its individual words, and stores the sentences (list of words) in the\n",
        "variable `sentences`."
      ]
    },
    {
      "cell_type": "code",
      "metadata": {
        "id": "75NXJO_T6X5v",
        "colab": {
          "base_uri": "https://localhost:8080/"
        },
        "outputId": "409ded5c-7783-4c8f-f39b-aa6a8febf291"
      },
      "source": [
        "sentences = []\n",
        "for line in open(file_path):\n",
        "    words = line.split()\n",
        "    sentence = [word.lower() for word in words]\n",
        "    sentences.append(sentence)\n",
        "print(sentences[0:15])"
      ],
      "execution_count": 5,
      "outputs": [
        {
          "output_type": "stream",
          "name": "stdout",
          "text": [
            "[['no', ',', 'he', 'says', 'now', '.'], ['and', 'what', 'did', 'he', 'do', '?'], ['the', 'money', \"'s\", 'there', '.'], ['that', 'was', 'less', 'than', 'a', 'year', 'ago', '.'], ['but', 'he', 'made', 'only', 'the', 'first', '.'], ['there', \"'s\", 'still', 'time', 'for', 'them', 'to', 'do', 'it', '.'], ['but', 'he', 'should', 'nt', 'have', '.'], ['they', 'have', 'to', 'come', 'down', 'to', 'the', 'people', '.'], ['i', 'do', 'nt', 'know', 'where', 'that', 'is', '.'], ['no', ',', 'i', 'would', 'nt', '.'], ['who', 'will', 'it', 'be', '?'], ['and', 'no', ',', 'i', 'was', 'not', 'the', 'one', '.'], ['you', 'could', 'do', 'a', 'where', 'are', 'they', 'now', '?'], ['there', \"'s\", 'no', 'place', 'like', 'it', 'that', 'i', 'know', 'of', '.'], ['be', 'here', 'now', ',', 'and', 'so', 'on', '.']]\n"
          ]
        }
      ]
    },
    {
      "cell_type": "markdown",
      "metadata": {
        "id": "nbP0-e_U6X5v"
      },
      "source": [
        "There are 97,162 sentences in total, and \n",
        "these sentences are composed of 250 distinct words."
      ]
    },
    {
      "cell_type": "code",
      "metadata": {
        "id": "OLUp8rZT6X5v",
        "colab": {
          "base_uri": "https://localhost:8080/"
        },
        "outputId": "2f8c106a-c46d-4b02-9e30-8b781d33b4a8"
      },
      "source": [
        "vocab = set([w for s in sentences for w in s])\n",
        "print(len(sentences)) # 97162\n",
        "print(len(vocab)) # 250"
      ],
      "execution_count": 6,
      "outputs": [
        {
          "output_type": "stream",
          "name": "stdout",
          "text": [
            "97162\n",
            "250\n"
          ]
        }
      ]
    },
    {
      "cell_type": "markdown",
      "metadata": {
        "id": "KB77tJrU6X5v"
      },
      "source": [
        "We'll separate our data into training, validation, and test.\n",
        "We'll use `10,000 sentences for test, 10,000 for validation, and\n",
        "the rest for training."
      ]
    },
    {
      "cell_type": "code",
      "metadata": {
        "id": "xJQRB6RJ6X5v"
      },
      "source": [
        "test, valid, train = sentences[:10000], sentences[10000:20000], sentences[20000:]"
      ],
      "execution_count": 7,
      "outputs": []
    },
    {
      "cell_type": "markdown",
      "metadata": {
        "id": "aUj7fsi06X5v"
      },
      "source": [
        "### Part (a) -- 3%\n",
        "\n",
        "**Display** 10 sentences in the training set.\n",
        "**Explain** how punctuations are treated in our word representation, and how words\n",
        "with apostrophes are represented."
      ]
    },
    {
      "cell_type": "code",
      "metadata": {
        "id": "90AmLcpF6X5w",
        "colab": {
          "base_uri": "https://localhost:8080/"
        },
        "outputId": "a7c8fc27-fa7d-4d5b-9b06-0724bc75ca21"
      },
      "source": [
        "# Your code goes here\n",
        "train[10:20]\n"
      ],
      "execution_count": 8,
      "outputs": [
        {
          "output_type": "execute_result",
          "data": {
            "text/plain": [
              "[['but', 'for', 'me', ',', 'now', ',', 'this', 'is', 'it', '.'],\n",
              " ['she', \"'s\", 'still', 'there', 'for', 'us', '.'],\n",
              " ['it', \"'s\", 'part', 'of', 'this', 'game', ',', 'man', '.'],\n",
              " ['it', 'was', ':', 'how', 'do', 'we', 'get', 'there', '?'],\n",
              " ['but', 'they', 'do', 'nt', 'last', 'too', 'long', '.'],\n",
              " ['more', 'are', 'like', 'me', ',', 'she', 'said', '.'],\n",
              " ['who', 'do', 'you', 'think', 'they', 'want', 'to', 'be', 'like', '?'],\n",
              " ['no', ',', 'he', 'could', 'not', '.'],\n",
              " ['so', 'i', 'left', 'it', 'up', 'to', 'them', '.'],\n",
              " ['we', 'were', 'nt', 'right', '.']]"
            ]
          },
          "metadata": {},
          "execution_count": 8
        }
      ]
    },
    {
      "cell_type": "markdown",
      "metadata": {
        "id": "swyMJHYN-Taa"
      },
      "source": [
        "**Write your answers here:**\n",
        "We can see that punctuations treated as words - i.e in word repersentaion a punctuation is word. -> \"me, now \" -> [\"me\", \",\" ,\"now\"].\n",
        "A words with apostrophes are seperated to 2 word by the location of the punctuation mark- i.e first word from the start to the 1 letter before the punctuation mark, and the second word from the letter after (and in some example we found in the data, include the mark) the punctuation mark  to the end of the word -> \"it 's\" , \"do nt\"-> [\"it\",\" 's\"] , [\"do\",\"nt\"]."
      ]
    },
    {
      "cell_type": "markdown",
      "metadata": {
        "id": "R2erKpOJ6X5w"
      },
      "source": [
        "### Part (b) -- 4%\n",
        "\n",
        "**Print** the 10 most common words in the vocabulary and how often does each of these\n",
        "words appear in the training sentences. Express the second quantity as a percentage\n",
        "(i.e. number of occurences of the  word / total number of words in the training set).\n",
        "\n",
        "These are useful quantities to compute, because one of the first things a machine learning model will learn is to predict the **most common** class. Getting a sense of the\n",
        "distribution of our data will help you understand our model's behaviour.\n",
        "\n",
        "You can use Python's `collections.Counter` class if you would like to."
      ]
    },
    {
      "cell_type": "code",
      "metadata": {
        "id": "pqSZO_a36X5w",
        "colab": {
          "base_uri": "https://localhost:8080/"
        },
        "outputId": "7e6892fa-aef6-49df-b446-3f8232b893b9"
      },
      "source": [
        "# Your code goes here\n",
        "# Your code goes here\n",
        "words=[item for sub in sentences for item in sub] \n",
        "trainingWord=[item for sub in train for item in sub] \n",
        "N=len(trainingWord)\n",
        "\n",
        "counterWord = collections.Counter(words)\n",
        "counterTrain = collections.Counter(trainingWord)\n",
        "\n",
        "theCommonGround=counterWord.most_common(10)\n",
        "theCommonTrain=[]\n",
        "for val in theCommonGround:\n",
        "  theCommonTrain.append((val[0],counterTrain[val[0]]))\n",
        "print(\"The Most 10 common in vocabulary : \")\n",
        "print(theCommonGround)\n",
        "print(\"\\n% Occurances in train set of this 10 most common:\") \n",
        "percentageArray=[(theCommonTrain[i][0],round((theCommonTrain[i][1]/N * 100),2)) for i in range(len(theCommonTrain))]\n",
        "print(percentageArray)\n",
        "\n"
      ],
      "execution_count": 9,
      "outputs": [
        {
          "output_type": "stream",
          "name": "stdout",
          "text": [
            "The Most 10 common in vocabulary : \n",
            "[('.', 80974), ('it', 29200), (',', 24583), ('i', 22267), ('do', 20245), ('to', 19537), ('nt', 16460), ('?', 16210), ('the', 15939), ('that', 15795)]\n",
            "\n",
            "% Occurances in train set of this 10 most common:\n",
            "[('.', 10.7), ('it', 3.85), (',', 3.25), ('i', 2.94), ('do', 2.69), ('to', 2.58), ('nt', 2.16), ('?', 2.14), ('the', 2.09), ('that', 2.09)]\n"
          ]
        }
      ]
    },
    {
      "cell_type": "markdown",
      "metadata": {
        "id": "j4CHlVRI6X5w"
      },
      "source": [
        "### Part (c) -- 11%\n",
        "\n",
        "Our neural network will take as input three words and predict the next one. Therefore, we need our data set to be comprised of seuqnces of four consecutive words in a sentence, referred to as *4grams*. \n",
        "\n",
        "**Complete** the helper functions `convert_words_to_indices` and\n",
        "`generate_4grams`, so that the function `process_data` will take a \n",
        "list of sentences (i.e. list of list of words), and generate an \n",
        "$N \\times 4$ numpy matrix containing indices of 4 words that appear\n",
        "next to each other, where $N$ is the number of 4grams (sequences of 4 words appearing one after the other) that can be found in the complete list of sentences. Examples of how these functions should operate are detailed in the code below. \n",
        "\n",
        "You can use the defined `vocab`, `vocab_itos`,\n",
        "and `vocab_stoi` in your code."
      ]
    },
    {
      "cell_type": "code",
      "metadata": {
        "id": "IUZsxdHk6X5w",
        "colab": {
          "base_uri": "https://localhost:8080/"
        },
        "outputId": "20388846-9812-4768-cb34-7be612996711"
      },
      "source": [
        "# A list of all the words in the data set. We will assign a unique \n",
        "# identifier for each of these words.\n",
        "vocab = sorted(list(set([w for s in train for w in s])))\n",
        "# A mapping of index => word (string)\n",
        "vocab_itos = dict(enumerate(vocab))\n",
        "# A mapping of word => its index\n",
        "vocab_stoi = {word:index for index, word in vocab_itos.items()}\n",
        "\n",
        "def convert_words_to_indices(sents):\n",
        "    \"\"\"\n",
        "    This function takes a list of sentences (list of list of words)\n",
        "    and returns a new list with the same structure, but where each word\n",
        "    is replaced by its index in `vocab_stoi`.\n",
        "\n",
        "    Example:\n",
        "    >>> convert_words_to_indices([['one', 'in', 'five', 'are', 'over', 'here'], ['other', 'one', 'since', 'yesterday'], ['you']])\n",
        "    [[148, 98, 70, 23, 154, 89], [151, 148, 181, 246], [248]]\n",
        "    \"\"\"\n",
        "\n",
        "    # Write your code here\n",
        "    arr=sents\n",
        "    for i in range(len(sents)):\n",
        "      for j in range(len(sents[i])):\n",
        "        arr[i][j]=vocab_stoi[sents[i][j]]\n",
        "    return arr\n",
        "\n",
        "print(convert_words_to_indices([['one', 'in', 'five', 'are', 'over', 'here'], ['other', 'one', 'since', 'yesterday'], ['you']]))\n",
        "\n",
        "def generate_4grams(seqs):\n",
        "    \"\"\"\n",
        "    This function takes a list of sentences (list of lists) and returns\n",
        "    a new list containing the 4-grams (four consequentively occuring words)\n",
        "    that appear in the sentences. Note that a unique 4-gram can appear multiple\n",
        "    times, one per each time that the 4-gram appears in the data parameter `seqs`.\n",
        "\n",
        "    Example:\n",
        "\n",
        "    >>> generate_4grams([[148, 98, 70, 23, 154, 89], [151, 148, 181, 246], [248]])\n",
        "    [[148, 98, 70, 23], [98, 70, 23, 154], [70, 23, 154, 89], [151, 148, 181, 246]]\n",
        "    >>> generate_4grams([[1, 1, 1, 1, 1]])\n",
        "    [[1, 1, 1, 1], [1, 1, 1, 1]]\n",
        "    \"\"\"\n",
        "\n",
        "    # Write your code here\n",
        "    arr=[]\n",
        "    for i in range(len(seqs)):\n",
        "      for j in range(len(seqs[i])):\n",
        "        if (len(seqs[i])-j)>=4:\n",
        "          arr.append(seqs[i][j:j+4])\n",
        "    return arr\n",
        "\n",
        "def generate_3grams(seqs):\n",
        "    \"\"\"\n",
        "    This function takes a list of sentences (list of lists) and returns\n",
        "    a new list containing the 3-grams (three consequentively occuring words)\n",
        "    that appear in the sentences. Note that a unique 3-gram can appear multiple\n",
        "    times, one per each time that the 3-gram appears in the data parameter `seqs`.\n",
        "\n",
        "    Example:\n",
        "\n",
        "    >>> generate_3grams([[148, 98, 70, 23, 154, 89], [151, 148, 181, 246], [248]])\n",
        "    [[148, 98, 70, 23], [98, 70, 23, 154], [70, 23, 154, 89], [151, 148, 181, 246]]\n",
        "    >>> generate_3grams([[1, 1, 1, 1, 1]])\n",
        "    [[1, 1, 1, 1], [1, 1, 1, 1]]\n",
        "    \"\"\"\n",
        "\n",
        "    # Write your code here\n",
        "    arr=[]\n",
        "    for i in range(len(seqs)):\n",
        "      for j in range(len(seqs[i])):\n",
        "        if (len(seqs[i])-j)>=3:\n",
        "          arr.append(seqs[i][j:j+3])\n",
        "    return arr\n",
        "\n",
        "\n",
        "\n",
        "def process_data(sents):\n",
        "    \"\"\"\n",
        "    This function takes a list of sentences (list of lists), and generates an\n",
        "    numpy matrix with shape [N, 4] containing indices of words in 4-grams.\n",
        "    \"\"\"\n",
        "    indices = convert_words_to_indices(sents)\n",
        "    fourgrams = generate_4grams(indices)\n",
        "    return np.array(fourgrams)\n",
        "\n",
        "# We can now generate our data which will be used to train and test the network\n",
        "train4grams = process_data(train)\n",
        "valid4grams = process_data(valid)\n",
        "test4grams = process_data(test)"
      ],
      "execution_count": 10,
      "outputs": [
        {
          "output_type": "stream",
          "name": "stdout",
          "text": [
            "[[148, 98, 70, 23, 154, 89], [151, 148, 181, 246], [248]]\n"
          ]
        }
      ]
    },
    {
      "cell_type": "markdown",
      "metadata": {
        "id": "3Rv-6sNm6X5x"
      },
      "source": [
        "## Question 2. A Multi-Layer Perceptron (44%)\n",
        "\n",
        "In this section, we will build a two-layer multi-layer perceptron. \n",
        "Our model will look like this:\n",
        "\n",
        "<img src=\"https://drive.google.com/uc?id=15uMLB-YsMHSOr0EQfTRhWd4o9enIOjUe\">\n",
        "\n",
        "Since the sentences in the data are comprised of $250$ distinct words, our task boils down to claissfication where the label space $\\mathcal{S}$ is of cardinality $|\\mathcal{S}|=250$ while our input, which is comprised of a combination of three words, is treated as a vector of size $750\\times 1$ (i.e., the concatanation of three one-hot $250\\times 1$ vectors).\n",
        "\n",
        "The following function `get_batch` will take as input the whole dataset and output a single batch for the training. The output size of the batch is explained below.\n",
        "\n",
        "**Implement** yourself a function `make_onehot` which takes the data in index notation and output it in a onehot notation.\n",
        "\n",
        "Start by reviewing the helper function, which is given to you:"
      ]
    },
    {
      "cell_type": "code",
      "metadata": {
        "id": "ZsqTLOoJ6X5x"
      },
      "source": [
        "def make_onehot(data):\n",
        "    \"\"\"\n",
        "    Convert one batch of data in the index notation into its corresponding onehot\n",
        "    notation. Remember, the function should work for both xt and st. \n",
        "     \n",
        "    input - vector with shape D (1D or 2D)\n",
        "    output - vector with shape (D,250)\n",
        "    \"\"\"\n",
        "    # Write your code here\n",
        "    is2d= not(isinstance(data[0],np.int64) or (isinstance(data[0],int)))  #check if D is 2d\n",
        "    if is2d:\n",
        "      temp = np.zeros((np.shape(data)[0],np.shape(data)[1],250))\n",
        "      for i in range(len(data)):    \n",
        "          for j in range(len(data[i])):\n",
        "            temp[i][j] = np.eye(len(vocab))[data[i][j]]\n",
        "    else:\n",
        "      temp = np.zeros((len(data),250))\n",
        "      for i in range(len(data)):\n",
        "          temp[i] = np.eye(len(vocab))[data[i]] \n",
        "    return temp\n",
        "\n",
        "def get_batch(data, range_min, range_max, onehot=True):\n",
        "    \"\"\"\n",
        "    Convert one batch of data in the form of 4-grams into input and output\n",
        "    data and return the training data (xt, st) where:\n",
        "     - `xt` is an numpy array of one-hot vectors of shape [batch_size, 3, 250]\n",
        "     - `st` is either\n",
        "            - a numpy array of shape [batch_size, 250] if onehot is True,\n",
        "            - a numpy array of shape [batch_size] containing indicies otherwise\n",
        "\n",
        "    Preconditions:\n",
        "     - `data` is a numpy array of shape [N, 4] produced by a call\n",
        "        to `process_data`\n",
        "     - range_max > range_min\n",
        "    \"\"\"\n",
        "    xt = data[range_min:range_max, :3]\n",
        "    xt = make_onehot(xt)\n",
        "    st = data[range_min:range_max, 3]\n",
        "    if onehot:\n",
        "        st = make_onehot(st).reshape(-1, 250)\n",
        "    return xt, st\n"
      ],
      "execution_count": 11,
      "outputs": []
    },
    {
      "cell_type": "markdown",
      "metadata": {
        "id": "qvLuZpH-6X52"
      },
      "source": [
        "### Part (a) -- 8%\n",
        "\n",
        "We build the model in PyTorch. Since PyTorch uses automatic\n",
        "differentiation, we only need to write the *forward pass* of our\n",
        "model. \n",
        "\n",
        "**Complete** the `forward` function below:"
      ]
    },
    {
      "cell_type": "code",
      "metadata": {
        "id": "iMzWMUB16X52"
      },
      "source": [
        "class PyTorchMLP(nn.Module):\n",
        "    def __init__(self, num_hidden=400):\n",
        "        super(PyTorchMLP, self).__init__()\n",
        "        self.layer1 = nn.Linear(750, num_hidden)\n",
        "        self.layer2 = nn.Linear(num_hidden, 250)\n",
        "        self.num_hidden = num_hidden\n",
        "    def forward(self, inp):\n",
        "        inp = inp.reshape([-1, 750])\n",
        "        inp1 = self.layer1(inp)\n",
        "        return self.layer2(inp1)\n",
        "        # TODO: complete this function \n",
        "        # Note that we will be using the nn.CrossEntropyLoss(), which computes the softmax operation internally, as loss criterion\n"
      ],
      "execution_count": 12,
      "outputs": []
    },
    {
      "cell_type": "markdown",
      "metadata": {
        "id": "114NF7If6X52"
      },
      "source": [
        "### Part (b) -- 10%\n",
        "\n",
        "We next  train the PyTorch model using the Adam optimizer and the cross entropy loss.\n",
        "\n",
        "**Complete** the function `run_pytorch_gradient_descent`, and use it to train your PyTorch MLP model.\n",
        "\n",
        "**Obtain** a training accuracy of at least 35% while changing only the hyperparameters of the train function.\n",
        "\n",
        "Plot the learning curve using the `plot_learning_curve` function provided\n",
        "to you, and include your plot in your PDF submission."
      ]
    },
    {
      "cell_type": "code",
      "metadata": {
        "id": "LY70vUCZ6X52"
      },
      "source": [
        "def estimate_accuracy_torch(model, data, batch_size=5000, max_N=100000):\n",
        "    \"\"\"\n",
        "    Estimate the accuracy of the model on the data. To reduce\n",
        "    computation time, use at most `max_N` elements of `data` to\n",
        "    produce the estimate.\n",
        "    \"\"\"\n",
        "    correct = 0\n",
        "    N = 0\n",
        "    for i in range(0, data.shape[0], batch_size):\n",
        "        # get a batch of data\n",
        "        xt, st = get_batch(data, i, i + batch_size, onehot=False)\n",
        "        \n",
        "        # forward pass prediction\n",
        "        y = model(torch.Tensor(xt))\n",
        "        y = y.detach().numpy() # convert the PyTorch tensor => numpy array\n",
        "        pred = np.argmax(y, axis=1)\n",
        "        correct += np.sum(pred == st)\n",
        "        N += st.shape[0]\n",
        "\n",
        "        if N > max_N:\n",
        "            break\n",
        "    return correct / N\n",
        "\n",
        "def run_pytorch_gradient_descent(model,\n",
        "                                 train_data=train4grams,\n",
        "                                 validation_data=valid4grams,\n",
        "                                 batch_size=100,\n",
        "                                 learning_rate=0.001,\n",
        "                                 weight_decay=0,\n",
        "                                 max_iters=1000,\n",
        "                                 checkpoint_path=None):\n",
        "    \"\"\"\n",
        "    Train the PyTorch model on the dataset `train_data`, reporting\n",
        "    the validation accuracy on `validation_data`, for `max_iters`\n",
        "    iteration.\n",
        "\n",
        "    If you want to **checkpoint** your model weights (i.e. save the\n",
        "    model weights to Google Drive), then the parameter\n",
        "    `checkpoint_path` should be a string path with `{}` to be replaced\n",
        "    by the iteration count:\n",
        "\n",
        "    For example, calling \n",
        "\n",
        "    >>> run_pytorch_gradient_descent(model, ...,\n",
        "            checkpoint_path = '/content/gdrive/My Drive/Intro_to_Deep_Learning/mlp/ckpt-{}.pk')\n",
        "\n",
        "    will save the model parameters in Google Drive every 500 iterations.\n",
        "    You will have to make sure that the path exists (i.e. you'll need to create\n",
        "    the folder Intro_to_Deep_Learning, mlp, etc...). Your Google Drive will be populated with files:\n",
        "\n",
        "    - /content/gdrive/My Drive/Intro_to_Deep_Learning/mlp/ckpt-500.pk\n",
        "    - /content/gdrive/My Drive/Intro_to_Deep_Learning/mlp/ckpt-1000.pk\n",
        "    - ...\n",
        "\n",
        "    To load the weights at a later time, you can run:\n",
        "\n",
        "    >>> model.load_state_dict(torch.load('/content/gdrive/My Drive/Intro_to_Deep_Learning/mlp/ckpt-500.pk'))\n",
        "\n",
        "    This function returns the training loss, and the training/validation accuracy,\n",
        "    which we can use to plot the learning curve.\n",
        "    \"\"\"\n",
        "    criterion = nn.CrossEntropyLoss()\n",
        "    optimizer = optim.Adam(model.parameters(),\n",
        "                           lr=learning_rate,\n",
        "                           weight_decay=weight_decay)\n",
        "\n",
        "    iters, losses = [], []\n",
        "    iters_sub, train_accs, val_accs  = [], [] ,[]\n",
        "\n",
        "    n = 0 # the number of iterations\n",
        "    while True:\n",
        "        for i in range(0, train_data.shape[0], batch_size):\n",
        "            if (i + batch_size) > train_data.shape[0]:\n",
        "                break\n",
        "\n",
        "            # get the input and targets of a minibatch\n",
        "            xt, st = get_batch(train_data, i, i + batch_size, onehot=False)\n",
        "\n",
        "            # convert from numpy arrays to PyTorch tensors\n",
        "            xt = torch.Tensor(xt)\n",
        "            st = torch.Tensor(st).long()\n",
        "            zs =  model(xt)          # compute prediction logit\n",
        "            loss = criterion(zs,st)  # compute the total loss\n",
        "            loss.backward()          # compute updates for each parameter\n",
        "            optimizer.step()         # make the updates for each parameter\n",
        "            optimizer.zero_grad()    # a clean up step for PyTorch\n",
        "            # save the current training information\n",
        "            iters.append(n)\n",
        "            losses.append(float(loss)/batch_size)  # compute *average* loss\n",
        "\n",
        "            if n % 100 == 0:\n",
        "                iters_sub.append(n)\n",
        "                train_cost = float(loss.detach().numpy())\n",
        "                train_acc = estimate_accuracy_torch(model, train_data)\n",
        "                train_accs.append(train_acc)\n",
        "                val_acc = estimate_accuracy_torch(model, validation_data)\n",
        "                val_accs.append(val_acc)\n",
        "                print(\"Iter %d. [Val Acc %.0f%%] [Train Acc %.0f%%, Loss %f]\" % (\n",
        "                      n, val_acc * 100, train_acc * 100, train_cost))\n",
        "\n",
        "                if (checkpoint_path is not None) and n > 0:\n",
        "                    torch.save(model.state_dict(), checkpoint_path.format(n))\n",
        "\n",
        "            # increment the iteration number\n",
        "            n += 1\n",
        "\n",
        "            if n > max_iters:\n",
        "                return iters, losses, iters_sub, train_accs, val_accs\n",
        "\n",
        "def prepare_data(sents):\n",
        "    ##prepare the data for prediction - convert the array into one hot and 3gram\n",
        "    indices = convert_words_to_indices(sents)\n",
        "    threegrams = generate_3grams(indices)\n",
        "    return make_onehot(np.array(threegrams))\n",
        "\n",
        "def plot_learning_curve(iters, losses, iters_sub, train_accs, val_accs):\n",
        "    \"\"\"\n",
        "    Plot the learning curve.\n",
        "    \"\"\"\n",
        "    plt.title(\"Learning Curve: Loss per Iteration\")\n",
        "    plt.plot(iters, losses, label=\"Train\")\n",
        "    plt.xlabel(\"Iterations\")\n",
        "    plt.ylabel(\"Loss\")\n",
        "    plt.show()\n",
        "\n",
        "    plt.title(\"Learning Curve: Accuracy per Iteration\")\n",
        "    plt.plot(iters_sub, train_accs, label=\"Train\")\n",
        "    plt.plot(iters_sub, val_accs, label=\"Validation\")\n",
        "    plt.xlabel(\"Iterations\")\n",
        "    plt.ylabel(\"Accuracy\")\n",
        "    plt.legend(loc='best')\n",
        "    plt.show()"
      ],
      "execution_count": 13,
      "outputs": []
    },
    {
      "cell_type": "code",
      "metadata": {
        "id": "DXBq-1F86X52",
        "colab": {
          "base_uri": "https://localhost:8080/",
          "height": 398
        },
        "outputId": "09470e66-2cf7-4a6e-c1c6-8d7ac4766095"
      },
      "source": [
        "i=0\n",
        "mu=[i/1000 for i in range(1,20,5)]\n",
        "decayArray=[0,0.01,0.2,0.6,0.9]\n",
        "for batch in range(1500,10,-500):\n",
        "  for m in mu:\n",
        "    for decay in decayArray:\n",
        "      i+=1\n",
        "      print(f\"#{i}: batch size={batch}, learning rate={m}, decay rate={decay/10}\")\n",
        "      pytorch_mlp = PyTorchMLP()\n",
        "\n",
        "      learning_curve_info = run_pytorch_gradient_descent(pytorch_mlp, batch_size=batch,\n",
        "                                 learning_rate=m,\n",
        "                                 weight_decay=decay,\n",
        "                                 checkpoint_path='/content/gdrive/MyDrive/Colab Notebooks/%dckpt-{}.pk'%(i))\n",
        "\n",
        "      plot_learning_curve(*learning_curve_info)\n",
        "#pytorch_mlp.load_state_dict(torch.load('/content/gdrive/MyDrive/Colab Notebooks/models_T2/ckpt-1500.pk'))\n"
      ],
      "execution_count": 14,
      "outputs": [
        {
          "output_type": "stream",
          "name": "stdout",
          "text": [
            "#1: batch size=1500, learning rate=0.001, decay rate=0.0\n"
          ]
        },
        {
          "output_type": "error",
          "ename": "KeyboardInterrupt",
          "evalue": "ignored",
          "traceback": [
            "\u001b[0;31m---------------------------------------------------------------------------\u001b[0m",
            "\u001b[0;31mKeyboardInterrupt\u001b[0m                         Traceback (most recent call last)",
            "\u001b[0;32m<ipython-input-14-cb77f6691551>\u001b[0m in \u001b[0;36m<module>\u001b[0;34m\u001b[0m\n\u001b[1;32m     12\u001b[0m                                  \u001b[0mlearning_rate\u001b[0m\u001b[0;34m=\u001b[0m\u001b[0mm\u001b[0m\u001b[0;34m,\u001b[0m\u001b[0;34m\u001b[0m\u001b[0;34m\u001b[0m\u001b[0m\n\u001b[1;32m     13\u001b[0m                                  \u001b[0mweight_decay\u001b[0m\u001b[0;34m=\u001b[0m\u001b[0mdecay\u001b[0m\u001b[0;34m,\u001b[0m\u001b[0;34m\u001b[0m\u001b[0;34m\u001b[0m\u001b[0m\n\u001b[0;32m---> 14\u001b[0;31m                                  checkpoint_path='/content/gdrive/MyDrive/Colab Notebooks/%dckpt-{}.pk'%(i))\n\u001b[0m\u001b[1;32m     15\u001b[0m \u001b[0;34m\u001b[0m\u001b[0m\n\u001b[1;32m     16\u001b[0m       \u001b[0mplot_learning_curve\u001b[0m\u001b[0;34m(\u001b[0m\u001b[0;34m*\u001b[0m\u001b[0mlearning_curve_info\u001b[0m\u001b[0;34m)\u001b[0m\u001b[0;34m\u001b[0m\u001b[0;34m\u001b[0m\u001b[0m\n",
            "\u001b[0;32m<ipython-input-13-74ac728e3328>\u001b[0m in \u001b[0;36mrun_pytorch_gradient_descent\u001b[0;34m(model, train_data, validation_data, batch_size, learning_rate, weight_decay, max_iters, checkpoint_path)\u001b[0m\n\u001b[1;32m     92\u001b[0m                 \u001b[0miters_sub\u001b[0m\u001b[0;34m.\u001b[0m\u001b[0mappend\u001b[0m\u001b[0;34m(\u001b[0m\u001b[0mn\u001b[0m\u001b[0;34m)\u001b[0m\u001b[0;34m\u001b[0m\u001b[0;34m\u001b[0m\u001b[0m\n\u001b[1;32m     93\u001b[0m                 \u001b[0mtrain_cost\u001b[0m \u001b[0;34m=\u001b[0m \u001b[0mfloat\u001b[0m\u001b[0;34m(\u001b[0m\u001b[0mloss\u001b[0m\u001b[0;34m.\u001b[0m\u001b[0mdetach\u001b[0m\u001b[0;34m(\u001b[0m\u001b[0;34m)\u001b[0m\u001b[0;34m.\u001b[0m\u001b[0mnumpy\u001b[0m\u001b[0;34m(\u001b[0m\u001b[0;34m)\u001b[0m\u001b[0;34m)\u001b[0m\u001b[0;34m\u001b[0m\u001b[0;34m\u001b[0m\u001b[0m\n\u001b[0;32m---> 94\u001b[0;31m                 \u001b[0mtrain_acc\u001b[0m \u001b[0;34m=\u001b[0m \u001b[0mestimate_accuracy_torch\u001b[0m\u001b[0;34m(\u001b[0m\u001b[0mmodel\u001b[0m\u001b[0;34m,\u001b[0m \u001b[0mtrain_data\u001b[0m\u001b[0;34m)\u001b[0m\u001b[0;34m\u001b[0m\u001b[0;34m\u001b[0m\u001b[0m\n\u001b[0m\u001b[1;32m     95\u001b[0m                 \u001b[0mtrain_accs\u001b[0m\u001b[0;34m.\u001b[0m\u001b[0mappend\u001b[0m\u001b[0;34m(\u001b[0m\u001b[0mtrain_acc\u001b[0m\u001b[0;34m)\u001b[0m\u001b[0;34m\u001b[0m\u001b[0;34m\u001b[0m\u001b[0m\n\u001b[1;32m     96\u001b[0m                 \u001b[0mval_acc\u001b[0m \u001b[0;34m=\u001b[0m \u001b[0mestimate_accuracy_torch\u001b[0m\u001b[0;34m(\u001b[0m\u001b[0mmodel\u001b[0m\u001b[0;34m,\u001b[0m \u001b[0mvalidation_data\u001b[0m\u001b[0;34m)\u001b[0m\u001b[0;34m\u001b[0m\u001b[0;34m\u001b[0m\u001b[0m\n",
            "\u001b[0;32m<ipython-input-13-74ac728e3328>\u001b[0m in \u001b[0;36mestimate_accuracy_torch\u001b[0;34m(model, data, batch_size, max_N)\u001b[0m\n\u001b[1;32m      9\u001b[0m     \u001b[0;32mfor\u001b[0m \u001b[0mi\u001b[0m \u001b[0;32min\u001b[0m \u001b[0mrange\u001b[0m\u001b[0;34m(\u001b[0m\u001b[0;36m0\u001b[0m\u001b[0;34m,\u001b[0m \u001b[0mdata\u001b[0m\u001b[0;34m.\u001b[0m\u001b[0mshape\u001b[0m\u001b[0;34m[\u001b[0m\u001b[0;36m0\u001b[0m\u001b[0;34m]\u001b[0m\u001b[0;34m,\u001b[0m \u001b[0mbatch_size\u001b[0m\u001b[0;34m)\u001b[0m\u001b[0;34m:\u001b[0m\u001b[0;34m\u001b[0m\u001b[0;34m\u001b[0m\u001b[0m\n\u001b[1;32m     10\u001b[0m         \u001b[0;31m# get a batch of data\u001b[0m\u001b[0;34m\u001b[0m\u001b[0;34m\u001b[0m\u001b[0;34m\u001b[0m\u001b[0m\n\u001b[0;32m---> 11\u001b[0;31m         \u001b[0mxt\u001b[0m\u001b[0;34m,\u001b[0m \u001b[0mst\u001b[0m \u001b[0;34m=\u001b[0m \u001b[0mget_batch\u001b[0m\u001b[0;34m(\u001b[0m\u001b[0mdata\u001b[0m\u001b[0;34m,\u001b[0m \u001b[0mi\u001b[0m\u001b[0;34m,\u001b[0m \u001b[0mi\u001b[0m \u001b[0;34m+\u001b[0m \u001b[0mbatch_size\u001b[0m\u001b[0;34m,\u001b[0m \u001b[0monehot\u001b[0m\u001b[0;34m=\u001b[0m\u001b[0;32mFalse\u001b[0m\u001b[0;34m)\u001b[0m\u001b[0;34m\u001b[0m\u001b[0;34m\u001b[0m\u001b[0m\n\u001b[0m\u001b[1;32m     12\u001b[0m \u001b[0;34m\u001b[0m\u001b[0m\n\u001b[1;32m     13\u001b[0m         \u001b[0;31m# forward pass prediction\u001b[0m\u001b[0;34m\u001b[0m\u001b[0;34m\u001b[0m\u001b[0;34m\u001b[0m\u001b[0m\n",
            "\u001b[0;32m<ipython-input-11-ee6c2f3f0dd9>\u001b[0m in \u001b[0;36mget_batch\u001b[0;34m(data, range_min, range_max, onehot)\u001b[0m\n\u001b[1;32m     35\u001b[0m     \"\"\"\n\u001b[1;32m     36\u001b[0m     \u001b[0mxt\u001b[0m \u001b[0;34m=\u001b[0m \u001b[0mdata\u001b[0m\u001b[0;34m[\u001b[0m\u001b[0mrange_min\u001b[0m\u001b[0;34m:\u001b[0m\u001b[0mrange_max\u001b[0m\u001b[0;34m,\u001b[0m \u001b[0;34m:\u001b[0m\u001b[0;36m3\u001b[0m\u001b[0;34m]\u001b[0m\u001b[0;34m\u001b[0m\u001b[0;34m\u001b[0m\u001b[0m\n\u001b[0;32m---> 37\u001b[0;31m     \u001b[0mxt\u001b[0m \u001b[0;34m=\u001b[0m \u001b[0mmake_onehot\u001b[0m\u001b[0;34m(\u001b[0m\u001b[0mxt\u001b[0m\u001b[0;34m)\u001b[0m\u001b[0;34m\u001b[0m\u001b[0;34m\u001b[0m\u001b[0m\n\u001b[0m\u001b[1;32m     38\u001b[0m     \u001b[0mst\u001b[0m \u001b[0;34m=\u001b[0m \u001b[0mdata\u001b[0m\u001b[0;34m[\u001b[0m\u001b[0mrange_min\u001b[0m\u001b[0;34m:\u001b[0m\u001b[0mrange_max\u001b[0m\u001b[0;34m,\u001b[0m \u001b[0;36m3\u001b[0m\u001b[0;34m]\u001b[0m\u001b[0;34m\u001b[0m\u001b[0;34m\u001b[0m\u001b[0m\n\u001b[1;32m     39\u001b[0m     \u001b[0;32mif\u001b[0m \u001b[0monehot\u001b[0m\u001b[0;34m:\u001b[0m\u001b[0;34m\u001b[0m\u001b[0;34m\u001b[0m\u001b[0m\n",
            "\u001b[0;32m<ipython-input-11-ee6c2f3f0dd9>\u001b[0m in \u001b[0;36mmake_onehot\u001b[0;34m(data)\u001b[0m\n\u001b[1;32m     13\u001b[0m       \u001b[0;32mfor\u001b[0m \u001b[0mi\u001b[0m \u001b[0;32min\u001b[0m \u001b[0mrange\u001b[0m\u001b[0;34m(\u001b[0m\u001b[0mlen\u001b[0m\u001b[0;34m(\u001b[0m\u001b[0mdata\u001b[0m\u001b[0;34m)\u001b[0m\u001b[0;34m)\u001b[0m\u001b[0;34m:\u001b[0m\u001b[0;34m\u001b[0m\u001b[0;34m\u001b[0m\u001b[0m\n\u001b[1;32m     14\u001b[0m           \u001b[0;32mfor\u001b[0m \u001b[0mj\u001b[0m \u001b[0;32min\u001b[0m \u001b[0mrange\u001b[0m\u001b[0;34m(\u001b[0m\u001b[0mlen\u001b[0m\u001b[0;34m(\u001b[0m\u001b[0mdata\u001b[0m\u001b[0;34m[\u001b[0m\u001b[0mi\u001b[0m\u001b[0;34m]\u001b[0m\u001b[0;34m)\u001b[0m\u001b[0;34m)\u001b[0m\u001b[0;34m:\u001b[0m\u001b[0;34m\u001b[0m\u001b[0;34m\u001b[0m\u001b[0m\n\u001b[0;32m---> 15\u001b[0;31m             \u001b[0mtemp\u001b[0m\u001b[0;34m[\u001b[0m\u001b[0mi\u001b[0m\u001b[0;34m]\u001b[0m\u001b[0;34m[\u001b[0m\u001b[0mj\u001b[0m\u001b[0;34m]\u001b[0m \u001b[0;34m=\u001b[0m \u001b[0mnp\u001b[0m\u001b[0;34m.\u001b[0m\u001b[0meye\u001b[0m\u001b[0;34m(\u001b[0m\u001b[0mlen\u001b[0m\u001b[0;34m(\u001b[0m\u001b[0mvocab\u001b[0m\u001b[0;34m)\u001b[0m\u001b[0;34m)\u001b[0m\u001b[0;34m[\u001b[0m\u001b[0mdata\u001b[0m\u001b[0;34m[\u001b[0m\u001b[0mi\u001b[0m\u001b[0;34m]\u001b[0m\u001b[0;34m[\u001b[0m\u001b[0mj\u001b[0m\u001b[0;34m]\u001b[0m\u001b[0;34m]\u001b[0m\u001b[0;34m\u001b[0m\u001b[0;34m\u001b[0m\u001b[0m\n\u001b[0m\u001b[1;32m     16\u001b[0m     \u001b[0;32melse\u001b[0m\u001b[0;34m:\u001b[0m\u001b[0;34m\u001b[0m\u001b[0;34m\u001b[0m\u001b[0m\n\u001b[1;32m     17\u001b[0m       \u001b[0mtemp\u001b[0m \u001b[0;34m=\u001b[0m \u001b[0mnp\u001b[0m\u001b[0;34m.\u001b[0m\u001b[0mzeros\u001b[0m\u001b[0;34m(\u001b[0m\u001b[0;34m(\u001b[0m\u001b[0mlen\u001b[0m\u001b[0;34m(\u001b[0m\u001b[0mdata\u001b[0m\u001b[0;34m)\u001b[0m\u001b[0;34m,\u001b[0m\u001b[0;36m250\u001b[0m\u001b[0;34m)\u001b[0m\u001b[0;34m)\u001b[0m\u001b[0;34m\u001b[0m\u001b[0;34m\u001b[0m\u001b[0m\n",
            "\u001b[0;32m/usr/local/lib/python3.7/dist-packages/numpy/lib/twodim_base.py\u001b[0m in \u001b[0;36meye\u001b[0;34m(N, M, k, dtype, order, like)\u001b[0m\n\u001b[1;32m    212\u001b[0m     \u001b[0;32mif\u001b[0m \u001b[0mM\u001b[0m \u001b[0;32mis\u001b[0m \u001b[0;32mNone\u001b[0m\u001b[0;34m:\u001b[0m\u001b[0;34m\u001b[0m\u001b[0;34m\u001b[0m\u001b[0m\n\u001b[1;32m    213\u001b[0m         \u001b[0mM\u001b[0m \u001b[0;34m=\u001b[0m \u001b[0mN\u001b[0m\u001b[0;34m\u001b[0m\u001b[0;34m\u001b[0m\u001b[0m\n\u001b[0;32m--> 214\u001b[0;31m     \u001b[0mm\u001b[0m \u001b[0;34m=\u001b[0m \u001b[0mzeros\u001b[0m\u001b[0;34m(\u001b[0m\u001b[0;34m(\u001b[0m\u001b[0mN\u001b[0m\u001b[0;34m,\u001b[0m \u001b[0mM\u001b[0m\u001b[0;34m)\u001b[0m\u001b[0;34m,\u001b[0m \u001b[0mdtype\u001b[0m\u001b[0;34m=\u001b[0m\u001b[0mdtype\u001b[0m\u001b[0;34m,\u001b[0m \u001b[0morder\u001b[0m\u001b[0;34m=\u001b[0m\u001b[0morder\u001b[0m\u001b[0;34m)\u001b[0m\u001b[0;34m\u001b[0m\u001b[0;34m\u001b[0m\u001b[0m\n\u001b[0m\u001b[1;32m    215\u001b[0m     \u001b[0;32mif\u001b[0m \u001b[0mk\u001b[0m \u001b[0;34m>=\u001b[0m \u001b[0mM\u001b[0m\u001b[0;34m:\u001b[0m\u001b[0;34m\u001b[0m\u001b[0;34m\u001b[0m\u001b[0m\n\u001b[1;32m    216\u001b[0m         \u001b[0;32mreturn\u001b[0m \u001b[0mm\u001b[0m\u001b[0;34m\u001b[0m\u001b[0;34m\u001b[0m\u001b[0m\n",
            "\u001b[0;31mKeyboardInterrupt\u001b[0m: "
          ]
        }
      ]
    },
    {
      "cell_type": "markdown",
      "metadata": {
        "id": "xcXqpx0v6X52"
      },
      "source": [
        "### Part (c) -- 10%\n",
        "**Write** a function `make_prediction` that takes as parameters\n",
        "a PyTorchMLP model and sentence (a list of words), and produces\n",
        "a prediction for the next word in the sentence.\n",
        " "
      ]
    },
    {
      "cell_type": "code",
      "metadata": {
        "id": "O2jOK7B26X52",
        "colab": {
          "base_uri": "https://localhost:8080/",
          "height": 35
        },
        "outputId": "1e571c40-b2f4-433c-c62a-1342a8131edb"
      },
      "source": [
        "def make_prediction_torch(model, sentence):\n",
        "    \"\"\"\n",
        "    Use the model to make a prediction for the next word in the\n",
        "    sentence using the last 3 words (sentence[:-3]). You may assume\n",
        "    that len(sentence) >= 3 and that `model` is an instance of\n",
        "    PYTorchMLP.\n",
        "\n",
        "    This function should return the next word, represented as a string.\n",
        "\n",
        "    Example call:\n",
        "    >>> make_prediction_torch(pytorch_mlp, ['you', 'are', 'a'])\n",
        "    \"\"\"\n",
        "\n",
        "    global vocab_stoi, vocab_itos,vocab\n",
        "    #  Write your code here\n",
        "    # make the data ready to prediction i.e take 3 last word, convert them to indexes and then to oneHot vector:\n",
        "    temp=[sentence[-3:]]\n",
        "    convertedSentence=convert_words_to_indices(temp)\n",
        "    oneHotSentence=make_onehot(convertedSentence)\n",
        "    toBePredicted = torch.Tensor(oneHotSentence) \n",
        "    prediction = model(toBePredicted)\n",
        "    argMax = np.argmax(prediction.detach().numpy())    #take the index of the word with the max probability \n",
        "    return vocab_itos[argMax]    #return the word (not the index)\n",
        "\n",
        "pytorch_mlp1 = PyTorchMLP()\n",
        "pytorch_mlp1.load_state_dict(torch.load('/content/gdrive/MyDrive/Colab Notebooks/1ckpt-1000.pk'))\n",
        "make_prediction_torch(pytorch_mlp1, ['you', 'are', 'a'])"
      ],
      "execution_count": 78,
      "outputs": [
        {
          "output_type": "execute_result",
          "data": {
            "text/plain": [
              "'good'"
            ],
            "application/vnd.google.colaboratory.intrinsic+json": {
              "type": "string"
            }
          },
          "metadata": {},
          "execution_count": 78
        }
      ]
    },
    {
      "cell_type": "markdown",
      "metadata": {
        "id": "mHvIKjYg6X53"
      },
      "source": [
        "### Part (d) -- 10%\n",
        "\n",
        "Use your code to predict what the next word should be in each\n",
        "of the following sentences:\n",
        "\n",
        "- \"You are a\"\n",
        "- \"few companies show\"\n",
        "- \"There are no\"\n",
        "- \"yesterday i was\"\n",
        "- \"the game had\"\n",
        "- \"yesterday the federal\"\n",
        "\n",
        "Do your predictions make sense?\n",
        "\n",
        "In many cases where you overfit the model can either output the same results for all inputs or just memorize the dataset. \n",
        "\n",
        "**Print** the output for all of these sentences and \n",
        "**Write** below if you encounter these effects or something else which indicates overfitting, if you do train again with better hyperparameters.\n",
        "\n",
        "\n"
      ]
    },
    {
      "cell_type": "code",
      "metadata": {
        "id": "kdzhshY56X53",
        "colab": {
          "base_uri": "https://localhost:8080/"
        },
        "outputId": "a9b7666d-0b55-4603-a49f-e202fd06c9b0"
      },
      "source": [
        "targets = [\"you are a\".split(),\"few companies show\".split(), \\\n",
        "           \"there are no\".split(), \"yesterday i was\".split(),\\\n",
        "           \"the game had\".split(), \"yesterday the federal\".split()]\n",
        "print(targets)\n",
        "for target in targets:\n",
        " word=make_prediction_torch(pytorch_mlp1,target)\n",
        " print(\" \".join(target)+\" \"+word)\n",
        "\n"
      ],
      "execution_count": 79,
      "outputs": [
        {
          "output_type": "stream",
          "name": "stdout",
          "text": [
            "[['you', 'are', 'a'], ['few', 'companies', 'show'], ['there', 'are', 'no'], ['yesterday', 'i', 'was'], ['the', 'game', 'had'], ['yesterday', 'the', 'federal']]\n",
            "you are a good\n",
            "few companies show .\n",
            "there are no other\n",
            "yesterday i was nt\n",
            "the game had to\n",
            "yesterday the federal government\n"
          ]
        }
      ]
    },
    {
      "cell_type": "markdown",
      "metadata": {
        "id": "mTfh4MwjAlGB"
      },
      "source": [
        "**Write your answers here:**\n",
        "We didn't encounter these effects- as we can see, the model complete each sentence with different word, and he didn't memorizethe dataset (we try to find these sentences in the raw_sentences.txt - no found them, also we try to serach for the last 2 words for a match- except from \"i was like\" we didn't find other cominations)"
      ]
    },
    {
      "cell_type": "markdown",
      "metadata": {
        "id": "F4QBM0fo6X53"
      },
      "source": [
        "### Part (e) -- 6%\n",
        "\n",
        "Report the test accuracy of your model\n",
        "**34.524579897714226**"
      ]
    },
    {
      "cell_type": "code",
      "metadata": {
        "id": "Sq31oqDR6X53",
        "colab": {
          "base_uri": "https://localhost:8080/"
        },
        "outputId": "eb389520-1546-41a9-ee6c-8db56474d4df"
      },
      "source": [
        "def get_test_accuracy(data):\n",
        "    \"\"\"\n",
        "    input= 4gram data\n",
        "    output= % accuracy\n",
        "  This function get the test4gram as data argument (or any other 4gram data)\n",
        "  Then split to xt,st and iterate on each sentence (convert back from 4gram to sentce)\n",
        "  And using \"make_predition_torch\" from above.\n",
        "  finally, compare the prediction with the true label st and count the correct ones\n",
        "  return %\n",
        "    \"\"\"\n",
        "    correct=0\n",
        "    xt,st=data[:,:3],data[:,3]\n",
        "    for i in range(len(st)):\n",
        "      y=[vocab_itos[word] for word in xt[i]]\n",
        "      y=make_prediction_torch(pytorch_mlp1,y)\n",
        "      if (y == vocab_itos[st[i]] ):\n",
        "        correct += 1\n",
        "    return (correct/len(st))*100\n",
        "\n",
        "get_test_accuracy(test4grams)\n"
      ],
      "execution_count": 81,
      "outputs": [
        {
          "output_type": "execute_result",
          "data": {
            "text/plain": [
              "34.524579897714226"
            ]
          },
          "metadata": {},
          "execution_count": 81
        }
      ]
    },
    {
      "cell_type": "markdown",
      "metadata": {
        "id": "Xlr7C8yg6X53"
      },
      "source": [
        "## Question 3. Learning Word Embeddings (24 %)\n",
        "\n",
        "In this section, we will build a slightly different model with a different\n",
        "architecture. In particular, we will first compute a lower-dimensional\n",
        "*representation* of the three words, before using a multi-layer perceptron.\n",
        "\n",
        "Our model will look like this:\n",
        "\n",
        "<img src=\"https://drive.google.com/uc?id=16lXygLTSuRgOCj6UWK0vHkSoyRJWfMSZ\" />\n",
        " \n",
        "\n",
        "This model has 3 layers instead of 2, but the first layer of the network\n",
        "is **not** fully-connected. Instead, we compute the representations of each\n",
        "of the three words **separately**. In addition, the first layer of the network\n",
        "will not use any biases. The reason for this will be clear in question 4.\n",
        " "
      ]
    },
    {
      "cell_type": "markdown",
      "metadata": {
        "id": "i0td55ll6X54"
      },
      "source": [
        "### Part (a) -- 10%\n",
        "\n",
        "The PyTorch model is implemented for you. Use \n",
        "`run_pytorch_gradient_descent` to train\n",
        "your PyTorch MLP model to obtain a training accuracy of at least 38%.\n",
        "Plot the learning curve using the `plot_learning_curve` function provided\n",
        "to you, and include your plot in your PDF submission.\n"
      ]
    },
    {
      "cell_type": "code",
      "metadata": {
        "id": "HqWlfclh6X54"
      },
      "source": [
        "class PyTorchWordEmb(nn.Module):\n",
        "    def __init__(self, emb_size=100, num_hidden=300, vocab_size=250):\n",
        "        super(PyTorchWordEmb, self).__init__()\n",
        "        self.word_emb_layer = nn.Linear(vocab_size, emb_size, bias=False)\n",
        "        self.fc_layer1 = nn.Linear(emb_size * 3, num_hidden)\n",
        "        self.fc_layer2 = nn.Linear(num_hidden, 250)\n",
        "        self.num_hidden = num_hidden\n",
        "        self.emb_size = emb_size\n",
        "    def forward(self, inp):\n",
        "        embeddings = torch.relu(self.word_emb_layer(inp))\n",
        "        embeddings = embeddings.reshape([-1, self.emb_size * 3])\n",
        "        hidden = torch.relu(self.fc_layer1(embeddings))\n",
        "        return self.fc_layer2(hidden)\n",
        "\n",
        "# pytorch_wordemb= PyTorchWordEmb()\n",
        "\n",
        "# result = run_pytorch_gradient_descent(pytorch_wordemb,\n",
        "#                                       max_iters=20000,\n",
        "#                                       ...)\n",
        "\n",
        "# plot_learning_curve(*result)"
      ],
      "execution_count": null,
      "outputs": []
    },
    {
      "cell_type": "markdown",
      "metadata": {
        "id": "oekGJRad6X54"
      },
      "source": [
        "### Part (b) -- 10%\n",
        "\n",
        "Use the function `make_prediction` that you wrote earlier to predict what the next word should be in each of the following sentences:\n",
        "\n",
        "- \"You are a\"\n",
        "- \"few companies show\"\n",
        "- \"There are no\"\n",
        "- \"yesterday i was\"\n",
        "- \"the game had\"\n",
        "- \"yesterday the federal\"\n",
        "\n",
        "How do these predictions compared to the previous model?\n",
        "\n",
        "**Print** the output for all of these sentences using the new network and \n",
        "**Write** below how the new results compare to the previous ones.\n",
        "\n",
        "Just like before, if you encounter overfitting,\n",
        "train your model for more iterations, or change the hyperparameters in your\n",
        "model. You may need to do this even if your training accuracy is >=38%."
      ]
    },
    {
      "cell_type": "code",
      "metadata": {
        "id": "I1W2Vl3g6X54"
      },
      "source": [
        "# Your code goes here"
      ],
      "execution_count": null,
      "outputs": []
    },
    {
      "cell_type": "markdown",
      "metadata": {
        "id": "uZQeQXPfGQNB"
      },
      "source": [
        "**Write your explanation here:**"
      ]
    },
    {
      "cell_type": "markdown",
      "metadata": {
        "id": "g36bTOV46X54"
      },
      "source": [
        "### Part (c) -- 4%\n",
        "\n",
        "Report the test accuracy of your model"
      ]
    },
    {
      "cell_type": "code",
      "metadata": {
        "id": "qy8W6XrZ6X54"
      },
      "source": [
        "# Write your code here"
      ],
      "execution_count": null,
      "outputs": []
    },
    {
      "cell_type": "markdown",
      "metadata": {
        "id": "J1fyrlDz6X55"
      },
      "source": [
        "## Question 4. Visualizing Word Embeddings (14%)\n",
        "\n",
        "While training the `PyTorchMLP`, we trained the `word_emb_layer`, which takes a one-hot\n",
        "representation of a word in our vocabulary, and returns a low-dimensional vector\n",
        "representation of that word. In this question, we will explore these word embeddings, which are a key concept in natural language processing.\n",
        "\n",
        "\n",
        "\n",
        "\n",
        "### Part (a) -- 4%\n",
        "\n",
        "The code below extracts the **weights** of the word embedding layer,\n",
        "and converts the PyTorch tensor into an numpy array.\n",
        "Explain why each *row* of `word_emb` contains the vector representing\n",
        "of a word. For example `word_emb[vocab_stoi[\"any\"],:]` contains the\n",
        "vector representation of the word \"any\"."
      ]
    },
    {
      "cell_type": "code",
      "metadata": {
        "id": "7IvS6JDM6X55"
      },
      "source": [
        "word_emb_weights = list(pytorch_wordemb.word_emb_layer.parameters())[0]\n",
        "word_emb = word_emb_weights.detach().numpy().T\n",
        "print(word_emb[vocab_stoi[\"any\"],:])"
      ],
      "execution_count": null,
      "outputs": []
    },
    {
      "cell_type": "markdown",
      "metadata": {
        "id": "SF_kTjxrkonT"
      },
      "source": [
        "**Write your explanation here:**"
      ]
    },
    {
      "cell_type": "markdown",
      "metadata": {
        "id": "Hl-JenYz6X55"
      },
      "source": [
        "### Part (b) -- 5%\n",
        "\n",
        "One interesting thing about these word embeddings is that distances\n",
        "in these vector representations of words make some sense! To show this,\n",
        "we have provided code below that computes the *cosine similarity* of\n",
        "every pair of words in our vocabulary. This measure of similarity between vector ${\\bf v}$ and ${\\bf w}$ is defined as \n",
        "   $$d_{\\rm cos}({\\bf v},{\\bf w}) = \\frac{{\\bf v}^T{\\bf w}}{||{\\bf v}|| ||{\\bf w}||}.$$  We also pre-scale the vectors to have a unit norm, using Numpy's `norm` method."
      ]
    },
    {
      "cell_type": "code",
      "metadata": {
        "id": "MPiv3pFX6X55"
      },
      "source": [
        "norms = np.linalg.norm(word_emb, axis=1)\n",
        "word_emb_norm = (word_emb.T / norms).T\n",
        "similarities = np.matmul(word_emb_norm, word_emb_norm.T)\n",
        "\n",
        "# Some example distances. The first one should be larger than the second\n",
        "print(similarities[vocab_stoi['any'], vocab_stoi['many']])\n",
        "print(similarities[vocab_stoi['any'], vocab_stoi['government']])"
      ],
      "execution_count": null,
      "outputs": []
    },
    {
      "cell_type": "markdown",
      "metadata": {
        "id": "1ctM-Mgr6X55"
      },
      "source": [
        "Compute the 5 closest words to the following words:\n",
        "\n",
        "- \"four\"\n",
        "- \"go\"\n",
        "- \"what\"\n",
        "- \"should\"\n",
        "- \"school\"\n",
        "- \"your\"\n",
        "- \"yesterday\"\n",
        "- \"not\""
      ]
    },
    {
      "cell_type": "code",
      "metadata": {
        "id": "66NCoAE26X55"
      },
      "source": [
        "# Write your code here"
      ],
      "execution_count": null,
      "outputs": []
    },
    {
      "cell_type": "markdown",
      "metadata": {
        "id": "JJAOG_pg6X55"
      },
      "source": [
        "### Part (c) -- 5%\n",
        "\n",
        "We can visualize the word embeddings by reducing the dimensionality of\n",
        "the word vectors to 2D. There are many dimensionality reduction techniques\n",
        "that we could use, and we will use an algorithm called t-SNE.\n",
        "(You don’t need to know what this is for the assignment; we will cover it later in the course.)\n",
        "Nearby points in this 2-D space are meant to correspond to nearby points\n",
        "in the original, high-dimensional space.\n",
        "\n",
        "The following code runs the t-SNE algorithm and plots the result.\n",
        "\n",
        "Look at the plot and find at least two clusters of related words.\n",
        "\n",
        "**Write** below for each cluster what is the commonality (if there is any) and if they make sense.\n",
        "\n",
        "Note that there is randomness in the initialization of the t-SNE \n",
        "algorithm. If you re-run this code, you may get a different image.\n",
        "Please make sure to submit your image in the PDF file."
      ]
    },
    {
      "cell_type": "code",
      "metadata": {
        "id": "seD1PgwK6X56"
      },
      "source": [
        "import sklearn.manifold\n",
        "tsne = sklearn.manifold.TSNE()\n",
        "Y = tsne.fit_transform(word_emb)\n",
        "\n",
        "plt.figure(figsize=(10, 10))\n",
        "plt.xlim(Y[:,0].min(), Y[:, 0].max())\n",
        "plt.ylim(Y[:,1].min(), Y[:, 1].max())\n",
        "for i, w in enumerate(vocab):\n",
        "    plt.text(Y[i, 0], Y[i, 1], w)\n",
        "plt.show()"
      ],
      "execution_count": null,
      "outputs": []
    },
    {
      "cell_type": "markdown",
      "metadata": {
        "id": "rb4gbqMam8S5"
      },
      "source": [
        "**Explain and discuss your results here:**"
      ]
    }
  ]
}